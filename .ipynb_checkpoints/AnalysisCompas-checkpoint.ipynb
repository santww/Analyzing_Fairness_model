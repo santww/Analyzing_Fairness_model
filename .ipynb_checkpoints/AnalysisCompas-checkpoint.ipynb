{
 "cells": [
  {
   "cell_type": "markdown",
   "id": "8f0d12fd",
   "metadata": {},
   "source": [
    "# Analyzing Fairness Metrics in Northpointe's COMPAS model "
   ]
  },
  {
   "cell_type": "markdown",
   "id": "6a791cd0",
   "metadata": {},
   "source": [
    "<center>Human-Centric Artificial Intelligence Project </center> \n",
    "<br> Davi Nascimento 2016100642 <br> Gabriela Costa 2017254837"
   ]
  },
  {
   "cell_type": "markdown",
   "id": "b0cd9807",
   "metadata": {},
   "source": [
    "## Analyzing Racial Bias"
   ]
  },
  {
   "cell_type": "markdown",
   "id": "8ad2b5a0",
   "metadata": {},
   "source": [
    "É apresentado a previsão exagerada do modelo Compas"
   ]
  },
  {
   "cell_type": "code",
   "execution_count": 1,
   "id": "6ee3e10d",
   "metadata": {},
   "outputs": [],
   "source": [
    "from truth_tables import PeekyReader, Person, table, is_race, count, vtable, hightable, vhightable\n",
    "from csv import DictReader\n",
    "\n",
    "people = []\n",
    "with open(\"./data/cox-parsed.csv\") as f:\n",
    "    reader = PeekyReader(DictReader(f))\n",
    "    try:\n",
    "        while True:\n",
    "            p = Person(reader)\n",
    "            if p.valid:\n",
    "                people.append(p)\n",
    "    except StopIteration:\n",
    "        pass\n",
    "\n",
    "pop = list(filter(lambda i: ((i.recidivist == True and i.lifetime <= 730) or\n",
    "                              i.lifetime > 730), list(filter(lambda x: x.score_valid, people))))\n",
    "recid = list(filter(lambda i: i.recidivist == True and i.lifetime <= 730, pop))\n",
    "rset = set(recid)\n",
    "surv = [i for i in pop if i not in rset]"
   ]
  },
  {
   "cell_type": "markdown",
   "id": "69ecbfd4",
   "metadata": {},
   "source": [
    "#### ALL DEFENDANTS"
   ]
  },
  {
   "cell_type": "code",
   "execution_count": 2,
   "id": "5ed6858d",
   "metadata": {
    "scrolled": true
   },
   "outputs": [
    {
     "name": "stdout",
     "output_type": "stream",
     "text": [
      "         \tPred Yes  Pred No\n",
      "Actual Yes\t2681\t1282\t0.55\n",
      "Actual No\t1216\t2035\t0.45\n",
      "Total: 7214.00\n",
      "False positive rate: 0.32\n",
      "False negative rate: 0.37\n",
      "True positive rate: 0.63\n",
      "True negative rate: 0.68\n",
      "Accuracy: 0.65\n",
      "Precision: 0.61\n",
      "Pr(Y=1): 0.55\n"
     ]
    }
   ],
   "source": [
    "table(list(recid), list(surv))"
   ]
  },
  {
   "cell_type": "markdown",
   "id": "90cee6fe",
   "metadata": {},
   "source": [
    "#### WHITE DEFENDANTS"
   ]
  },
  {
   "cell_type": "code",
   "execution_count": 3,
   "id": "24ee31f9",
   "metadata": {},
   "outputs": [
    {
     "name": "stdout",
     "output_type": "stream",
     "text": [
      "         \tPred Yes  Pred No\n",
      "Actual Yes\t1139\t349\t0.61\n",
      "Actual No\t461\t505\t0.39\n",
      "Total: 2454.00\n",
      "False positive rate: 0.23\n",
      "False negative rate: 0.48\n",
      "True positive rate: 0.52\n",
      "True negative rate: 0.77\n",
      "Accuracy: 0.67\n",
      "Precision: 0.59\n",
      "Pr(Y=1): 0.61\n"
     ]
    }
   ],
   "source": [
    "is_white = is_race(\"Caucasian\")\n",
    "table(list(filter(is_white, recid)), list(filter(is_white, surv)))"
   ]
  },
  {
   "cell_type": "markdown",
   "id": "e51f6bc7",
   "metadata": {},
   "source": [
    "#### BLACK DEFENDANTS"
   ]
  },
  {
   "cell_type": "code",
   "execution_count": 4,
   "id": "3a124cc1",
   "metadata": {},
   "outputs": [
    {
     "name": "stdout",
     "output_type": "stream",
     "text": [
      "         \tPred Yes  Pred No\n",
      "Actual Yes\t990\t805\t0.49\n",
      "Actual No\t532\t1369\t0.51\n",
      "Total: 3696.00\n",
      "False positive rate: 0.45\n",
      "False negative rate: 0.28\n",
      "True positive rate: 0.72\n",
      "True negative rate: 0.55\n",
      "Accuracy: 0.64\n",
      "Precision: 0.63\n",
      "Pr(Y=1): 0.49\n"
     ]
    }
   ],
   "source": [
    "is_afam = is_race(\"African-American\")\n",
    "table(list(filter(is_afam, recid)), list(filter(is_afam, surv)))"
   ]
  },
  {
   "cell_type": "markdown",
   "id": "85ae9a48",
   "metadata": {},
   "source": [
    "Em geral, a taxa de falsos positivos é de 32% <br> Esta taxa é maior para afro-americanos, 45% <br>\n",
    "E mais baixa para pessoas brancas-americanas, 23%."
   ]
  },
  {
   "cell_type": "code",
   "execution_count": 5,
   "id": "34c4c8b6",
   "metadata": {},
   "outputs": [
    {
     "data": {
      "text/plain": [
       "1.9565217391304348"
      ]
     },
     "execution_count": 5,
     "metadata": {},
     "output_type": "execute_result"
    }
   ],
   "source": [
    "45 / 23"
   ]
  },
  {
   "cell_type": "markdown",
   "id": "5fae1e11",
   "metadata": {},
   "source": [
    "No COMPAS os arguidos afro-americanos têm cerca de 95% mais probabilidade de obter uma pontuação mais alta e de não cometer mais crimes do que os arguidos brancos após dois anos."
   ]
  },
  {
   "cell_type": "code",
   "execution_count": 6,
   "id": "8b8ff641",
   "metadata": {},
   "outputs": [
    {
     "data": {
      "text/plain": [
       "1.7142857142857142"
      ]
     },
     "execution_count": 6,
     "metadata": {},
     "output_type": "execute_result"
    }
   ],
   "source": [
    "48 / 28"
   ]
  },
  {
   "cell_type": "markdown",
   "id": "c834b1aa",
   "metadata": {},
   "source": [
    "O COMPAS classifica erradamente os reofensores brancos como sendo de baixo risco a 71.4% mais frequentemente do que os reofensores afro-americanos."
   ]
  },
  {
   "cell_type": "markdown",
   "id": "8a0c6e18",
   "metadata": {},
   "source": [
    "### Disparate Impact"
   ]
  },
  {
   "cell_type": "markdown",
   "id": "541482c2",
   "metadata": {},
   "source": [
    "Calculado como a relação entre a taxa de resultados favoráveis para o grupo não privilegiado e a do grupo privilegiado."
   ]
  },
  {
   "cell_type": "code",
   "execution_count": 5,
   "id": "cb501588",
   "metadata": {},
   "outputs": [
    {
     "data": {
      "text/plain": [
       "0.8032786885245902"
      ]
     },
     "execution_count": 5,
     "metadata": {},
     "output_type": "execute_result"
    }
   ],
   "source": [
    "0.49 / 0.61"
   ]
  },
  {
   "cell_type": "markdown",
   "id": "d9ef86d9",
   "metadata": {},
   "source": [
    "O grupo privilegiado é beneficiado."
   ]
  },
  {
   "cell_type": "markdown",
   "id": "5e4d255b",
   "metadata": {},
   "source": [
    "### Equal Opportunity Difference"
   ]
  },
  {
   "cell_type": "markdown",
   "id": "3361196b",
   "metadata": {},
   "source": [
    "Calculada como a diferença dos true positives rates entre os grupos não privilegiados e os privilegiados."
   ]
  },
  {
   "cell_type": "code",
   "execution_count": 7,
   "id": "6c55c85a",
   "metadata": {},
   "outputs": [
    {
     "data": {
      "text/plain": [
       "0.19999999999999996"
      ]
     },
     "execution_count": 7,
     "metadata": {},
     "output_type": "execute_result"
    }
   ],
   "source": [
    "0.72 - 0.52"
   ]
  },
  {
   "cell_type": "markdown",
   "id": "7c30b8b5",
   "metadata": {},
   "source": [
    "O grupo privilegiado é beneficiado."
   ]
  },
  {
   "cell_type": "markdown",
   "id": "d87ec9c3",
   "metadata": {},
   "source": [
    "### Equalized odds difference"
   ]
  },
  {
   "cell_type": "markdown",
   "id": "fff732fe",
   "metadata": {},
   "source": [
    " Calculada como a diferença média da taxa de falsos positivos e da taxa de verdadeiros positivos entre grupos não privilegiados e privilegiados."
   ]
  },
  {
   "cell_type": "code",
   "execution_count": 8,
   "id": "10bd1c05",
   "metadata": {},
   "outputs": [
    {
     "data": {
      "text/plain": [
       "0.20499999999999996"
      ]
     },
     "execution_count": 8,
     "metadata": {},
     "output_type": "execute_result"
    }
   ],
   "source": [
    "(0.44 - 0.23) / 2 + (0.72 - 0.52) / 2"
   ]
  },
  {
   "cell_type": "markdown",
   "id": "7f3bd0ba",
   "metadata": {},
   "source": [
    "O grupo privilegiado é beneficiado."
   ]
  },
  {
   "cell_type": "markdown",
   "id": "d0c9bdad",
   "metadata": {},
   "source": [
    "### Statistical Parity Difference"
   ]
  },
  {
   "cell_type": "markdown",
   "id": "d3337e71",
   "metadata": {},
   "source": [
    "Calculada como a diferença da taxa de resultados favoráveis recebidos pelo grupo não privilegiado em relação ao grupo privilegiado."
   ]
  },
  {
   "cell_type": "code",
   "execution_count": 10,
   "id": "e6637e8e",
   "metadata": {},
   "outputs": [
    {
     "data": {
      "text/plain": [
       "-0.12"
      ]
     },
     "execution_count": 10,
     "metadata": {},
     "output_type": "execute_result"
    }
   ],
   "source": [
    "0.49 - 0.61"
   ]
  },
  {
   "cell_type": "markdown",
   "id": "875e2496",
   "metadata": {},
   "source": [
    "O grupo privilegiado é beneficiado."
   ]
  }
 ],
 "metadata": {
  "kernelspec": {
   "display_name": "Python 3",
   "language": "python",
   "name": "python3"
  },
  "language_info": {
   "codemirror_mode": {
    "name": "ipython",
    "version": 3
   },
   "file_extension": ".py",
   "mimetype": "text/x-python",
   "name": "python",
   "nbconvert_exporter": "python",
   "pygments_lexer": "ipython3",
   "version": "3.8.8"
  }
 },
 "nbformat": 4,
 "nbformat_minor": 5
}
